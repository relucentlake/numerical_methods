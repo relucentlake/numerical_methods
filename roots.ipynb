{
 "cells": [
  {
   "cell_type": "code",
   "execution_count": 1,
   "id": "ba0a527b-88c7-4343-ae0d-1f2492564747",
   "metadata": {},
   "outputs": [],
   "source": [
    "import numpy as np\n",
    "import matplotlib.pyplot as plt"
   ]
  },
  {
   "cell_type": "code",
   "execution_count": 2,
   "id": "9b603991-9e12-4dad-be55-77e4f4d63dfe",
   "metadata": {},
   "outputs": [],
   "source": [
    "a = 0\n",
    "b = 10\n",
    "t = [10**-3, 10**-6, 10**-9]\n",
    "\n",
    "f = lambda x: np.cos(1/(1+x))+np.sin(3*x/2)+x-7\n",
    "df = lambda x: np.sin(1/(1+x))*(1/((1+x)**2))+np.cos(3*x/2)*3/2+1"
   ]
  },
  {
   "cell_type": "code",
   "execution_count": 3,
   "id": "72365eb3-6130-4ca7-b33f-eaacd6deda67",
   "metadata": {},
   "outputs": [],
   "source": [
    "def bisection1(f, a, b, t):\n",
    "    if np.sign(f(a)) == np.sign(f(b)):\n",
    "        return 'метод дихотомии неприменим'\n",
    "    x = (a+b)/2\n",
    "    if (b-a) < t or f(x) == 0: \n",
    "        return x\n",
    "    elif np.sign(f(a)) == np.sign(f(x)):\n",
    "        return bisection1(f, x, b, t)\n",
    "    else:\n",
    "        return bisection1(f, a, x, t)\n",
    "\n",
    "def bisection2(f, a, b, t):\n",
    "    if np.sign(f(a)) == np.sign(f(b)):\n",
    "        return 'метод дихотомии неприменим'\n",
    "    while (b-a) >= t:\n",
    "        x = (a+b)/2\n",
    "        if f(x) == 0:\n",
    "            break\n",
    "        if np.sign(f(a)) != np.sign(f(x)):\n",
    "            b = x\n",
    "        else:\n",
    "            a = x   \n",
    "    return x\n",
    "\n",
    "def Newton(f, df, x, t, i):\n",
    "    for k in range(i):\n",
    "        if abs(f(x)) < t or f(x) == 0: \n",
    "            return x\n",
    "        elif df(x) == 0:\n",
    "            return None\n",
    "        else:\n",
    "            return Newton(f, df, x - f(x)/df(x), t, i)\n",
    "    return 'метод не сошёлся за '+str(i)+' итераций'"
   ]
  },
  {
   "cell_type": "code",
   "execution_count": 4,
   "id": "0f053074-68ab-413a-9e77-561fae2ee95b",
   "metadata": {},
   "outputs": [
    {
     "name": "stdout",
     "output_type": "stream",
     "text": [
      "bisection1 | точность 0.001 | 5.05157470703125\n",
      "bisection1 | точность 1e-06 | 5.051619708538055\n",
      "bisection1 | точность 1e-09 | 5.051619448058773\n",
      "bisection2 | точность 0.001 | 5.0518798828125\n",
      "bisection2 | точность 1e-06 | 5.0516194105148315\n",
      "bisection2 | точность 1e-09 | 5.051619448349811\n",
      "Newton | точность 0.001 | 5.05161679815347\n",
      "Newton | точность 1e-06 | 5.051619448197536\n",
      "Newton | точность 1e-09 | 5.051619448197536\n"
     ]
    }
   ],
   "source": [
    "for i in t:\n",
    "    print('bisection1 | точность', i, '|', bisection1(f, a, b, i))\n",
    "for i in t:\n",
    "    print('bisection2 | точность', i, '|', bisection2(f, a, b, i))\n",
    "for i in t:\n",
    "    print('Newton | точность', i, '|', Newton(f, df, 5, i, 1000))"
   ]
  },
  {
   "cell_type": "code",
   "execution_count": 8,
   "id": "b6ac58ba-60dd-425b-95b9-b0b515909c37",
   "metadata": {},
   "outputs": [
    {
     "name": "stdout",
     "output_type": "stream",
     "text": [
      "5\n",
      "5.049756475194272\n",
      "5.05161679815347\n",
      "Newton | точность 1e-06 | 5.051619448197536\n"
     ]
    }
   ],
   "source": [
    "def Newton1(f, df, x, t, i):\n",
    "    for k in range(i):\n",
    "        if abs(f(x)) < t or f(x) == 0: \n",
    "            return x\n",
    "        elif df(x) == 0:\n",
    "            return None\n",
    "        else:\n",
    "            print(x)\n",
    "            return Newton1(f, df, x - f(x)/df(x), t, i)\n",
    "    return 'метод не сошёлся за '+str(i)+' итераций'\n",
    "print('Newton | точность', 10**-6, '|', Newton1(f, df, 5, 10**-6, 1000))"
   ]
  },
  {
   "cell_type": "code",
   "execution_count": 5,
   "id": "12b7735f-71f7-4dce-a672-1a82119540a5",
   "metadata": {},
   "outputs": [
    {
     "data": {
      "text/plain": [
       "[<matplotlib.lines.Line2D at 0x23a5aae58a0>]"
      ]
     },
     "execution_count": 5,
     "metadata": {},
     "output_type": "execute_result"
    },
    {
     "data": {
      "image/png": "[encoded data removed]",
      "text/plain": [
       "<Figure size 640x480 with 1 Axes>"
      ]
     },
     "metadata": {},
     "output_type": "display_data"
    }
   ],
   "source": [
    "x = np.linspace(0, 10)\n",
    "y = np.full((50, ), 0)\n",
    "plt.plot(x, f(x))\n",
    "plt.plot(x, y)"
   ]
  },
  {
   "cell_type": "code",
   "execution_count": null,
   "id": "283809bd-3dea-4ca3-9738-bf86d85cf1a4",
   "metadata": {},
   "outputs": [],
   "source": []
  }
 ],
 "metadata": {
  "kernelspec": {
   "display_name": "Python 3 (ipykernel)",
   "language": "python",
   "name": "python3"
  },
  "language_info": {
   "codemirror_mode": {
    "name": "ipython",
    "version": 3
   },
   "file_extension": ".py",
   "mimetype": "text/x-python",
   "name": "python",
   "nbconvert_exporter": "python",
   "pygments_lexer": "ipython3",
   "version": "3.10.8"
  }
 },
 "nbformat": 4,
 "nbformat_minor": 5
}
