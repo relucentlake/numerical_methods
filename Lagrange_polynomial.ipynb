{
 "cells": [
  {
   "cell_type": "code",
   "execution_count": 1,
   "id": "6a05cd73-c3f4-4e61-a91c-a3cd2eb9d660",
   "metadata": {},
   "outputs": [],
   "source": [
    "import numpy as np\n",
    "from matplotlib import pyplot as plt\n",
    "from scipy.interpolate import lagrange\n",
    "from sklearn.metrics import mean_squared_error"
   ]
  },
  {
   "cell_type": "code",
   "execution_count": 2,
   "id": "8fd9f4b6-6fbc-413f-ae05-34aff4e3c0ec",
   "metadata": {},
   "outputs": [
    {
     "ename": "NameError",
     "evalue": "name 's' is not defined",
     "output_type": "error",
     "traceback": [
      "\u001b[1;31m---------------------------------------------------------------------------\u001b[0m",
      "\u001b[1;31mNameError\u001b[0m                                 Traceback (most recent call last)",
      "Cell \u001b[1;32mIn [2], line 9\u001b[0m\n\u001b[0;32m      6\u001b[0m \u001b[38;5;28;01mdef\u001b[39;00m \u001b[38;5;21mf\u001b[39m(x):\n\u001b[0;32m      7\u001b[0m     \u001b[38;5;28;01mreturn\u001b[39;00m np\u001b[38;5;241m.\u001b[39mcos(x\u001b[38;5;241m/\u001b[39m\u001b[38;5;241m3\u001b[39m)\u001b[38;5;241m*\u001b[39mnp\u001b[38;5;241m.\u001b[39msin(x\u001b[38;5;241m/\u001b[39m\u001b[38;5;241m2\u001b[39m)\n\u001b[1;32m----> 9\u001b[0m g \u001b[38;5;241m=\u001b[39m np\u001b[38;5;241m.\u001b[39marray([s\u001b[38;5;241m+\u001b[39mi\u001b[38;5;241m*\u001b[39mh \u001b[38;5;28;01mfor\u001b[39;00m i \u001b[38;5;129;01min\u001b[39;00m \u001b[38;5;28mrange\u001b[39m(n\u001b[38;5;241m+\u001b[39m\u001b[38;5;241m1\u001b[39m)])\n\u001b[0;32m     10\u001b[0m xi_eqt \u001b[38;5;241m=\u001b[39m np\u001b[38;5;241m.\u001b[39marray([g[i]\u001b[38;5;241m+\u001b[39m(g[i\u001b[38;5;241m+\u001b[39m\u001b[38;5;241m1\u001b[39m]\u001b[38;5;241m-\u001b[39mg[i])\u001b[38;5;241m/\u001b[39m\u001b[38;5;241m4\u001b[39m \u001b[38;5;28;01mfor\u001b[39;00m i \u001b[38;5;129;01min\u001b[39;00m \u001b[38;5;28mrange\u001b[39m(\u001b[38;5;28mlen\u001b[39m(g)\u001b[38;5;241m-\u001b[39m\u001b[38;5;241m1\u001b[39m)])\n\u001b[0;32m     11\u001b[0m xi_eq \u001b[38;5;241m=\u001b[39m np\u001b[38;5;241m.\u001b[39msort(np\u001b[38;5;241m.\u001b[39mappend(np\u001b[38;5;241m.\u001b[39mappend(xi_eqt, s), e))\n",
      "Cell \u001b[1;32mIn [2], line 9\u001b[0m, in \u001b[0;36m<listcomp>\u001b[1;34m(.0)\u001b[0m\n\u001b[0;32m      6\u001b[0m \u001b[38;5;28;01mdef\u001b[39;00m \u001b[38;5;21mf\u001b[39m(x):\n\u001b[0;32m      7\u001b[0m     \u001b[38;5;28;01mreturn\u001b[39;00m np\u001b[38;5;241m.\u001b[39mcos(x\u001b[38;5;241m/\u001b[39m\u001b[38;5;241m3\u001b[39m)\u001b[38;5;241m*\u001b[39mnp\u001b[38;5;241m.\u001b[39msin(x\u001b[38;5;241m/\u001b[39m\u001b[38;5;241m2\u001b[39m)\n\u001b[1;32m----> 9\u001b[0m g \u001b[38;5;241m=\u001b[39m np\u001b[38;5;241m.\u001b[39marray([\u001b[43ms\u001b[49m\u001b[38;5;241m+\u001b[39mi\u001b[38;5;241m*\u001b[39mh \u001b[38;5;28;01mfor\u001b[39;00m i \u001b[38;5;129;01min\u001b[39;00m \u001b[38;5;28mrange\u001b[39m(n\u001b[38;5;241m+\u001b[39m\u001b[38;5;241m1\u001b[39m)])\n\u001b[0;32m     10\u001b[0m xi_eqt \u001b[38;5;241m=\u001b[39m np\u001b[38;5;241m.\u001b[39marray([g[i]\u001b[38;5;241m+\u001b[39m(g[i\u001b[38;5;241m+\u001b[39m\u001b[38;5;241m1\u001b[39m]\u001b[38;5;241m-\u001b[39mg[i])\u001b[38;5;241m/\u001b[39m\u001b[38;5;241m4\u001b[39m \u001b[38;5;28;01mfor\u001b[39;00m i \u001b[38;5;129;01min\u001b[39;00m \u001b[38;5;28mrange\u001b[39m(\u001b[38;5;28mlen\u001b[39m(g)\u001b[38;5;241m-\u001b[39m\u001b[38;5;241m1\u001b[39m)])\n\u001b[0;32m     11\u001b[0m xi_eq \u001b[38;5;241m=\u001b[39m np\u001b[38;5;241m.\u001b[39msort(np\u001b[38;5;241m.\u001b[39mappend(np\u001b[38;5;241m.\u001b[39mappend(xi_eqt, s), e))\n",
      "\u001b[1;31mNameError\u001b[0m: name 's' is not defined"
     ]
    }
   ],
   "source": [
    "n = 100\n",
    "a = 0\n",
    "b = 10\n",
    "h = 0.1\n",
    "\n",
    "def f(x):\n",
    "    return np.cos(x/3)*np.sin(x/2)\n",
    "\n",
    "g = np.array([s+i*h for i in range(n+1)])\n",
    "xi_eqt = np.array([g[i]+(g[i+1]-g[i])/4 for i in range(len(g)-1)])\n",
    "xi_eq = np.sort(np.append(np.append(xi_eqt, s), e))\n",
    "xi_cht = np.array([1/2*(a+b)-1/2*(a-b)*np.cos((2*i-1)/(2*n)*np.pi) for i in range(n)])\n",
    "xi_ch = np.sort(np.append(np.append(xi_cht, s), e))\n",
    "xk = np.sort(np.concatenate((xi_eq, xi_ch)))\n",
    "yi_eq = np.array([f(xj) for xj in xi_eq])\n",
    "yi_ch = np.array([f(xj) for xj in xi_ch])"
   ]
  },
  {
   "cell_type": "code",
   "execution_count": null,
   "id": "1d3213dd-0883-4708-be6a-6c72207a0154",
   "metadata": {},
   "outputs": [],
   "source": [
    "def Ln(x, xi, yi):\n",
    "    Ln = 0\n",
    "    for xj, yj in zip(xi, yi):\n",
    "        l = 1\n",
    "        for xk in xi[xi != xj]:\n",
    "            l *= (x - xk) / (xj - xk)\n",
    "        Ln += yj * l\n",
    "    return Ln"
   ]
  },
  {
   "cell_type": "code",
   "execution_count": 247,
   "id": "89f16af1-2ade-4421-8ac0-e5e10d637885",
   "metadata": {},
   "outputs": [
    {
     "data": {
      "text/plain": [
       "0.0"
      ]
     },
     "execution_count": 247,
     "metadata": {},
     "output_type": "execute_result"
    }
   ],
   "source": [
    "Lni = np.array([Ln(xj, xi_eq, yi_eq) for xj in xi_eq])\n",
    "mean_squared_error(yi_eq, Lni)"
   ]
  },
  {
   "cell_type": "code",
   "execution_count": 248,
   "id": "413358a1-366a-4eed-992b-7113e0573ae4",
   "metadata": {},
   "outputs": [
    {
     "data": {
      "text/plain": [
       "0.017379884316414015"
      ]
     },
     "execution_count": 248,
     "metadata": {},
     "output_type": "execute_result"
    }
   ],
   "source": [
    "Lni = np.array([Ln(xj, xi_ch, yi_ch) for xj in xi_ch])\n",
    "mean_squared_error(yi_ch, Lni)"
   ]
  },
  {
   "cell_type": "code",
   "execution_count": 245,
   "id": "1a1e3106-1e9d-4c13-9ca4-a13bfd686f9a",
   "metadata": {},
   "outputs": [],
   "source": [
    "# ln = lagrange(xi_ch, f(xi_ch))\n",
    "# lni_ch = np.array([ln(xj) for xj in xi_ch])\n",
    "# mean_squared_error(yi_ch, lni_ch)"
   ]
  },
  {
   "cell_type": "code",
   "execution_count": 246,
   "id": "c6e125b6-9f6e-4431-a595-5a5236c0e5f8",
   "metadata": {},
   "outputs": [
    {
     "data": {
      "image/png": "[encoded data removed]",
      "text/plain": [
       "<Figure size 640x480 with 1 Axes>"
      ]
     },
     "metadata": {},
     "output_type": "display_data"
    }
   ],
   "source": [
    "fig, ax = plt.subplots()\n",
    "ax.plot(xk, f(xk), color='cyan')\n",
    "ax.plot(xi_eq, Ln(xi_eq, xi_eq, yi_eq), color='gold', linestyle='--')\n",
    "ax.plot(xi_ch, Ln(xi_ch, xi_ch, yi_ch), color='purple', linestyle=':')\n",
    "# ax.plot(xi, poly, color='purple', linestyle=':')\n",
    "# ax.set(xlim=(-10, 10), ylim=(-3, 3),)\n",
    "plt.show()"
   ]
  },
  {
   "cell_type": "code",
   "execution_count": null,
   "id": "12b31974-008e-42c1-a003-b6fa1c5ad67e",
   "metadata": {},
   "outputs": [],
   "source": []
  },
  {
   "cell_type": "code",
   "execution_count": null,
   "id": "c9e8cfdc-cf59-4a63-8934-99c1a3e43027",
   "metadata": {},
   "outputs": [],
   "source": []
  }
 ],
 "metadata": {
  "kernelspec": {
   "display_name": "Python 3 (ipykernel)",
   "language": "python",
   "name": "python3"
  },
  "language_info": {
   "codemirror_mode": {
    "name": "ipython",
    "version": 3
   },
   "file_extension": ".py",
   "mimetype": "text/x-python",
   "name": "python",
   "nbconvert_exporter": "python",
   "pygments_lexer": "ipython3",
   "version": "3.10.8"
  }
 },
 "nbformat": 4,
 "nbformat_minor": 5
}
